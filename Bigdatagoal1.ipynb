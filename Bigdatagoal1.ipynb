{
 "cells": [
  {
   "cell_type": "code",
   "execution_count": 19,
   "id": "c18e92ef-33cc-42de-8d4c-6bf4532dab2e",
   "metadata": {},
   "outputs": [],
   "source": [
    "from pyspark.sql import SparkSession\n",
    "\n",
    "spark = SparkSession.builder \\\n",
    "    .appName(\"Trend Analysis\") \\\n",
    "    .getOrCreate()\n",
    "\n",
    "df = spark.read.csv(\"C:\\Big_Data/dataset_music.csv\", header=True, inferSchema=True)\n"
   ]
  },
  {
   "cell_type": "code",
   "execution_count": null,
   "id": "5a28a709-5990-4723-bd81-3caa7da6abab",
   "metadata": {},
   "outputs": [],
   "source": [
    "df.printSchema()\n",
    "df.show()\n"
   ]
  },
  {
   "cell_type": "code",
   "execution_count": 21,
   "id": "68282929-d27f-4fb6-901e-acefa75685ef",
   "metadata": {},
   "outputs": [],
   "source": [
    "relevant_columns = df.select(\"loudness\", \"liveness\", \"energy\", \"track_genre\")\n"
   ]
  },
  {
   "cell_type": "code",
   "execution_count": 22,
   "id": "1686d83c-e282-4c75-91c7-388dab76a6bf",
   "metadata": {},
   "outputs": [],
   "source": [
    "df_cleaned = relevant_columns.dropna(subset=[\"loudness\", \"liveness\", \"energy\", \"track_genre\"])\n"
   ]
  },
  {
   "cell_type": "code",
   "execution_count": 23,
   "id": "1654e284-ae87-4792-a044-03a13ea45379",
   "metadata": {},
   "outputs": [],
   "source": [
    "from pyspark.sql.functions import avg\n",
    "\n",
    "genre_trends = df_cleaned.groupBy(\"track_genre\") \\\n",
    "                         .agg(\n",
    "                             avg(\"loudness\").alias(\"avg_loudness\"),\n",
    "                             avg(\"liveness\").alias(\"avg_liveness\"),\n",
    "                             avg(\"energy\").alias(\"avg_energy\")\n",
    "                         )\n"
   ]
  },
  {
   "cell_type": "code",
   "execution_count": 24,
   "id": "a10ab532-4771-49d9-8d2c-7dccfec478c7",
   "metadata": {},
   "outputs": [],
   "source": [
    "genre_popularity = df_cleaned.groupBy(\"track_genre\").count() \\\n",
    "                             .withColumnRenamed(\"count\", \"genre_count\")\n"
   ]
  },
  {
   "cell_type": "code",
   "execution_count": 25,
   "id": "5c682a66-22c3-45eb-b3bf-ac895912a2ce",
   "metadata": {},
   "outputs": [],
   "source": [
    "genre_analysis = genre_trends.join(genre_popularity, [\"track_genre\"], \"inner\")\n"
   ]
  },
  {
   "cell_type": "code",
   "execution_count": null,
   "id": "33242616-edcc-4113-bf86-3c9ae3aaabf0",
   "metadata": {},
   "outputs": [],
   "source": [
    "genre_analysis.show()\n"
   ]
  },
  {
   "cell_type": "code",
   "execution_count": 13,
   "id": "4b0cba3c-9483-43c7-b309-83bd11cde22a",
   "metadata": {},
   "outputs": [],
   "source": [
    "genre_analysis.write.csv(\"C:\\Big_Data\\genre_analysis.csv\", header=True)\n"
   ]
  },
  {
   "cell_type": "code",
   "execution_count": null,
   "id": "c0102cb1-9b53-4336-a918-ed7e2e03c01c",
   "metadata": {},
   "outputs": [],
   "source": []
  }
 ],
 "metadata": {
  "kernelspec": {
   "display_name": "Python 3 (ipykernel)",
   "language": "python",
   "name": "python3"
  },
  "language_info": {
   "codemirror_mode": {
    "name": "ipython",
    "version": 3
   },
   "file_extension": ".py",
   "mimetype": "text/x-python",
   "name": "python",
   "nbconvert_exporter": "python",
   "pygments_lexer": "ipython3",
   "version": "3.11.9"
  }
 },
 "nbformat": 4,
 "nbformat_minor": 5
}
