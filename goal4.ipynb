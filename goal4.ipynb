{
 "cells": [
  {
   "cell_type": "code",
   "execution_count": 1,
   "id": "0be94cf7-2784-41d6-8b7b-f8e62a986b1b",
   "metadata": {},
   "outputs": [],
   "source": [
    "from pyspark.sql import SparkSession\n",
    "from pyspark.sql.functions import col\n",
    "\n",
    "# Start a Spark session\n",
    "spark = SparkSession.builder.appName(\"UserRecommendationSystem\").getOrCreate()\n",
    "\n",
    "# Load the dataset\n",
    "ratings = spark.read.csv(\"dataset_music.csv\", header=True, inferSchema=True)\n",
    "\n",
    "# Drop unnecessary or null columns\n",
    "ratings_cleaned = ratings.na.drop(subset=[\"user_id\", \"popularity\"])\n",
    "\n",
    "# Ensure correct data types\n",
    "ratings_cleaned = ratings_cleaned.withColumn(\"user_id\", col(\"user_id\").cast(\"integer\")) \\\n",
    "                                 .withColumn(\"popularity\", col(\"popularity\").cast(\"float\"))\n"
   ]
  },
  {
   "cell_type": "code",
   "execution_count": 2,
   "id": "c58c0c84-ddd7-4b3f-a2e9-fde1d158cd46",
   "metadata": {},
   "outputs": [],
   "source": [
    "train_data, test_data = ratings_cleaned.randomSplit([0.8, 0.2], seed=42)\n"
   ]
  },
  {
   "cell_type": "code",
   "execution_count": 3,
   "id": "73956b67-ab39-411d-8b09-119c7fc73d33",
   "metadata": {},
   "outputs": [],
   "source": [
    "from pyspark.ml.recommendation import ALS\n",
    "\n",
    "als = ALS(\n",
    "    userCol=\"user_id\",\n",
    "    itemCol=\"user_id\",  # Using user-to-user recommendations\n",
    "    ratingCol=\"popularity\",\n",
    "    nonnegative=True,\n",
    "    coldStartStrategy=\"drop\"\n",
    ")\n",
    "\n",
    "model = als.fit(train_data)\n"
   ]
  },
  {
   "cell_type": "code",
   "execution_count": 4,
   "id": "f5962fe7-12c7-453e-959f-84b3d17f193a",
   "metadata": {},
   "outputs": [
    {
     "name": "stdout",
     "output_type": "stream",
     "text": [
      "+-------+--------+-------+----------+----------+----------+-----------------+--------+------------+------+---+--------+----+-----------+------------+----------------+--------+-------+-----+--------------+-----------+----------+\n",
      "|user_id|track_id|artists|album_name|track_name|popularity|duration_listened|explicit|danceability|energy|key|loudness|mode|speechiness|acousticness|instrumentalness|liveness|valence|tempo|time_signature|track_genre|prediction|\n",
      "+-------+--------+-------+----------+----------+----------+-----------------+--------+------------+------+---+--------+----+-----------+------------+----------------+--------+-------+-----+--------------+-----------+----------+\n",
      "+-------+--------+-------+----------+----------+----------+-----------------+--------+------------+------+---+--------+----+-----------+------------+----------------+--------+-------+-----+--------------+-----------+----------+\n",
      "\n"
     ]
    },
    {
     "ename": "AnalysisException",
     "evalue": "[AMBIGUOUS_REFERENCE] Reference `user_id` is ambiguous, could be: [`user_id`, `user_id`].",
     "output_type": "error",
     "traceback": [
      "\u001b[1;31m---------------------------------------------------------------------------\u001b[0m",
      "\u001b[1;31mAnalysisException\u001b[0m                         Traceback (most recent call last)",
      "Cell \u001b[1;32mIn[4], line 5\u001b[0m\n\u001b[0;32m      2\u001b[0m predictions\u001b[38;5;241m.\u001b[39mshow()\n\u001b[0;32m      4\u001b[0m \u001b[38;5;66;03m# Generate recommendations for all users\u001b[39;00m\n\u001b[1;32m----> 5\u001b[0m user_recommendations \u001b[38;5;241m=\u001b[39m \u001b[43mmodel\u001b[49m\u001b[38;5;241;43m.\u001b[39;49m\u001b[43mrecommendForAllUsers\u001b[49m\u001b[43m(\u001b[49m\u001b[38;5;241;43m10\u001b[39;49m\u001b[43m)\u001b[49m\n\u001b[0;32m      6\u001b[0m user_recommendations\u001b[38;5;241m.\u001b[39mshow(truncate\u001b[38;5;241m=\u001b[39m\u001b[38;5;28;01mFalse\u001b[39;00m)\n",
      "File \u001b[1;32m~\\big-data-venv\\Lib\\site-packages\\pyspark\\ml\\recommendation.py:653\u001b[0m, in \u001b[0;36mALSModel.recommendForAllUsers\u001b[1;34m(self, numItems)\u001b[0m\n\u001b[0;32m    636\u001b[0m \u001b[38;5;28;01mdef\u001b[39;00m \u001b[38;5;21mrecommendForAllUsers\u001b[39m(\u001b[38;5;28mself\u001b[39m, numItems: \u001b[38;5;28mint\u001b[39m) \u001b[38;5;241m-\u001b[39m\u001b[38;5;241m>\u001b[39m DataFrame:\n\u001b[0;32m    637\u001b[0m \u001b[38;5;250m    \u001b[39m\u001b[38;5;124;03m\"\"\"\u001b[39;00m\n\u001b[0;32m    638\u001b[0m \u001b[38;5;124;03m    Returns top `numItems` items recommended for each user, for all users.\u001b[39;00m\n\u001b[0;32m    639\u001b[0m \n\u001b[1;32m   (...)\u001b[0m\n\u001b[0;32m    651\u001b[0m \u001b[38;5;124;03m        stored as an array of (itemCol, rating) Rows.\u001b[39;00m\n\u001b[0;32m    652\u001b[0m \u001b[38;5;124;03m    \"\"\"\u001b[39;00m\n\u001b[1;32m--> 653\u001b[0m     \u001b[38;5;28;01mreturn\u001b[39;00m \u001b[38;5;28;43mself\u001b[39;49m\u001b[38;5;241;43m.\u001b[39;49m\u001b[43m_call_java\u001b[49m\u001b[43m(\u001b[49m\u001b[38;5;124;43m\"\u001b[39;49m\u001b[38;5;124;43mrecommendForAllUsers\u001b[39;49m\u001b[38;5;124;43m\"\u001b[39;49m\u001b[43m,\u001b[49m\u001b[43m \u001b[49m\u001b[43mnumItems\u001b[49m\u001b[43m)\u001b[49m\n",
      "File \u001b[1;32m~\\big-data-venv\\Lib\\site-packages\\pyspark\\ml\\wrapper.py:72\u001b[0m, in \u001b[0;36mJavaWrapper._call_java\u001b[1;34m(self, name, *args)\u001b[0m\n\u001b[0;32m     69\u001b[0m \u001b[38;5;28;01massert\u001b[39;00m sc \u001b[38;5;129;01mis\u001b[39;00m \u001b[38;5;129;01mnot\u001b[39;00m \u001b[38;5;28;01mNone\u001b[39;00m\n\u001b[0;32m     71\u001b[0m java_args \u001b[38;5;241m=\u001b[39m [_py2java(sc, arg) \u001b[38;5;28;01mfor\u001b[39;00m arg \u001b[38;5;129;01min\u001b[39;00m args]\n\u001b[1;32m---> 72\u001b[0m \u001b[38;5;28;01mreturn\u001b[39;00m _java2py(sc, \u001b[43mm\u001b[49m\u001b[43m(\u001b[49m\u001b[38;5;241;43m*\u001b[39;49m\u001b[43mjava_args\u001b[49m\u001b[43m)\u001b[49m)\n",
      "File \u001b[1;32m~\\big-data-venv\\Lib\\site-packages\\py4j\\java_gateway.py:1322\u001b[0m, in \u001b[0;36mJavaMember.__call__\u001b[1;34m(self, *args)\u001b[0m\n\u001b[0;32m   1316\u001b[0m command \u001b[38;5;241m=\u001b[39m proto\u001b[38;5;241m.\u001b[39mCALL_COMMAND_NAME \u001b[38;5;241m+\u001b[39m\\\n\u001b[0;32m   1317\u001b[0m     \u001b[38;5;28mself\u001b[39m\u001b[38;5;241m.\u001b[39mcommand_header \u001b[38;5;241m+\u001b[39m\\\n\u001b[0;32m   1318\u001b[0m     args_command \u001b[38;5;241m+\u001b[39m\\\n\u001b[0;32m   1319\u001b[0m     proto\u001b[38;5;241m.\u001b[39mEND_COMMAND_PART\n\u001b[0;32m   1321\u001b[0m answer \u001b[38;5;241m=\u001b[39m \u001b[38;5;28mself\u001b[39m\u001b[38;5;241m.\u001b[39mgateway_client\u001b[38;5;241m.\u001b[39msend_command(command)\n\u001b[1;32m-> 1322\u001b[0m return_value \u001b[38;5;241m=\u001b[39m \u001b[43mget_return_value\u001b[49m\u001b[43m(\u001b[49m\n\u001b[0;32m   1323\u001b[0m \u001b[43m    \u001b[49m\u001b[43manswer\u001b[49m\u001b[43m,\u001b[49m\u001b[43m \u001b[49m\u001b[38;5;28;43mself\u001b[39;49m\u001b[38;5;241;43m.\u001b[39;49m\u001b[43mgateway_client\u001b[49m\u001b[43m,\u001b[49m\u001b[43m \u001b[49m\u001b[38;5;28;43mself\u001b[39;49m\u001b[38;5;241;43m.\u001b[39;49m\u001b[43mtarget_id\u001b[49m\u001b[43m,\u001b[49m\u001b[43m \u001b[49m\u001b[38;5;28;43mself\u001b[39;49m\u001b[38;5;241;43m.\u001b[39;49m\u001b[43mname\u001b[49m\u001b[43m)\u001b[49m\n\u001b[0;32m   1325\u001b[0m \u001b[38;5;28;01mfor\u001b[39;00m temp_arg \u001b[38;5;129;01min\u001b[39;00m temp_args:\n\u001b[0;32m   1326\u001b[0m     \u001b[38;5;28;01mif\u001b[39;00m \u001b[38;5;28mhasattr\u001b[39m(temp_arg, \u001b[38;5;124m\"\u001b[39m\u001b[38;5;124m_detach\u001b[39m\u001b[38;5;124m\"\u001b[39m):\n",
      "File \u001b[1;32m~\\big-data-venv\\Lib\\site-packages\\pyspark\\errors\\exceptions\\captured.py:185\u001b[0m, in \u001b[0;36mcapture_sql_exception.<locals>.deco\u001b[1;34m(*a, **kw)\u001b[0m\n\u001b[0;32m    181\u001b[0m converted \u001b[38;5;241m=\u001b[39m convert_exception(e\u001b[38;5;241m.\u001b[39mjava_exception)\n\u001b[0;32m    182\u001b[0m \u001b[38;5;28;01mif\u001b[39;00m \u001b[38;5;129;01mnot\u001b[39;00m \u001b[38;5;28misinstance\u001b[39m(converted, UnknownException):\n\u001b[0;32m    183\u001b[0m     \u001b[38;5;66;03m# Hide where the exception came from that shows a non-Pythonic\u001b[39;00m\n\u001b[0;32m    184\u001b[0m     \u001b[38;5;66;03m# JVM exception message.\u001b[39;00m\n\u001b[1;32m--> 185\u001b[0m     \u001b[38;5;28;01mraise\u001b[39;00m converted \u001b[38;5;28;01mfrom\u001b[39;00m \u001b[38;5;28;01mNone\u001b[39;00m\n\u001b[0;32m    186\u001b[0m \u001b[38;5;28;01melse\u001b[39;00m:\n\u001b[0;32m    187\u001b[0m     \u001b[38;5;28;01mraise\u001b[39;00m\n",
      "\u001b[1;31mAnalysisException\u001b[0m: [AMBIGUOUS_REFERENCE] Reference `user_id` is ambiguous, could be: [`user_id`, `user_id`]."
     ]
    }
   ],
   "source": [
    "predictions = model.transform(test_data)\n",
    "predictions.show()\n",
    "\n",
    "# Generate recommendations for all users\n",
    "user_recommendations = model.recommendForAllUsers(10)\n",
    "user_recommendations.show(truncate=False)\n"
   ]
  },
  {
   "cell_type": "code",
   "execution_count": 5,
   "id": "71a2a834-009d-405d-a138-3214f30bdab5",
   "metadata": {},
   "outputs": [],
   "source": [
    "from pyspark.sql.functions import monotonically_increasing_id\n",
    "\n",
    "# Generate a unique item_id\n",
    "ratings_cleaned = ratings_cleaned.withColumn(\"item_id\", monotonically_increasing_id())\n"
   ]
  },
  {
   "cell_type": "code",
   "execution_count": 6,
   "id": "d989410b-5f5f-43a8-9eb9-7220cf547b01",
   "metadata": {},
   "outputs": [],
   "source": [
    "ratings_final = ratings_cleaned.select(\"user_id\", \"item_id\", \"popularity\")\n"
   ]
  },
  {
   "cell_type": "code",
   "execution_count": 7,
   "id": "4b5cad5f-fae0-43b1-beec-30c1bf181863",
   "metadata": {},
   "outputs": [],
   "source": [
    "train_data, test_data = ratings_final.randomSplit([0.8, 0.2], seed=42)\n"
   ]
  },
  {
   "cell_type": "code",
   "execution_count": 8,
   "id": "0b70b087-aae3-4da3-99ed-55564e9e0edc",
   "metadata": {},
   "outputs": [],
   "source": [
    "als = ALS(\n",
    "    userCol=\"user_id\",\n",
    "    itemCol=\"item_id\",\n",
    "    ratingCol=\"popularity\",\n",
    "    nonnegative=True,\n",
    "    coldStartStrategy=\"drop\"\n",
    ")\n",
    "model = als.fit(train_data)\n"
   ]
  },
  {
   "cell_type": "code",
   "execution_count": 9,
   "id": "c1df6834-e80c-4a87-ba14-5da8170033c6",
   "metadata": {},
   "outputs": [
    {
     "name": "stdout",
     "output_type": "stream",
     "text": [
      "+-------+-------+----------+----------+\n",
      "|user_id|item_id|popularity|prediction|\n",
      "+-------+-------+----------+----------+\n",
      "+-------+-------+----------+----------+\n",
      "\n"
     ]
    }
   ],
   "source": [
    "predictions = model.transform(test_data)\n",
    "predictions.show()\n"
   ]
  },
  {
   "cell_type": "code",
   "execution_count": 10,
   "id": "bbc5eff9-dd75-4f93-9dde-bdc750517953",
   "metadata": {},
   "outputs": [
    {
     "name": "stdout",
     "output_type": "stream",
     "text": [
      "+-------+---------------------------------------------------------------------------------------------------------------------------------------------------------------------------------------+\n",
      "|user_id|recommendations                                                                                                                                                                        |\n",
      "+-------+---------------------------------------------------------------------------------------------------------------------------------------------------------------------------------------+\n",
      "|28     |[{149, 0.0}, {139, 0.0}, {127, 0.0}, {126, 0.0}, {125, 0.0}, {122, 0.0}, {119, 0.0}, {115, 0.0}, {113, 0.0}, {109, 0.0}]                                                               |\n",
      "|31     |[{149, 0.0}, {139, 0.0}, {127, 0.0}, {126, 0.0}, {125, 0.0}, {122, 0.0}, {119, 0.0}, {115, 0.0}, {113, 0.0}, {109, 0.0}]                                                               |\n",
      "|34     |[{149, 0.0}, {139, 0.0}, {127, 0.0}, {126, 0.0}, {125, 0.0}, {122, 0.0}, {119, 0.0}, {115, 0.0}, {113, 0.0}, {109, 0.0}]                                                               |\n",
      "|53     |[{2002, 68.35762}, {53, 67.99615}, {3867, 65.70923}, {3459, 63.566494}, {3259, 61.86486}, {3760, 61.073048}, {3758, 61.047424}, {3216, 60.837868}, {3100, 60.785995}, {5005, 60.72574}]|\n",
      "|65     |[{4000, 76.49696}, {3000, 72.35184}, {3256, 69.07297}, {137, 68.98251}, {2007, 68.88651}, {2009, 68.66471}, {2712, 68.14653}, {3208, 68.13678}, {3509, 67.808876}, {2109, 67.41638}]   |\n",
      "|78     |[{3464, 71.78134}, {3154, 67.52937}, {2157, 66.40706}, {3005, 64.856804}, {78, 63.996372}, {3555, 62.156277}, {8410, 59.543385}, {2604, 59.54075}, {2709, 58.328983}, {2900, 58.29074}]|\n",
      "|81     |[{149, 0.0}, {139, 0.0}, {127, 0.0}, {126, 0.0}, {125, 0.0}, {122, 0.0}, {119, 0.0}, {115, 0.0}, {113, 0.0}, {109, 0.0}]                                                               |\n",
      "|85     |[{3353, 70.20984}, {3256, 66.584915}, {3500, 66.269646}, {10, 65.820496}, {3506, 64.33924}, {3509, 62.70824}, {85, 60.996178}, {2009, 60.978985}, {2150, 60.093002}, {3404, 59.862236}]|\n",
      "|101    |[{3923, 75.87016}, {3154, 75.703545}, {2709, 74.1176}, {2200, 72.102585}, {3464, 71.16302}, {2313, 70.721634}, {8400, 69.51681}, {2658, 69.0959}, {2106, 68.55137}, {8630, 67.71384}]  |\n",
      "|108    |[{3004, 75.3581}, {2203, 74.61436}, {3754, 72.51891}, {2409, 69.68093}, {2000, 67.457184}, {8539, 59.14449}, {2552, 58.406578}, {2510, 58.02911}, {3051, 57.79807}, {2011, 57.566307}] |\n",
      "|115    |[{60, 70.526886}, {3158, 69.737915}, {4035, 67.49878}, {2108, 67.396545}, {2360, 66.93524}, {3706, 63.25984}, {2518, 62.888332}, {2700, 62.768856}, {8536, 62.57019}, {4244, 61.35294}]|\n",
      "|126    |[{2001, 76.02963}, {3054, 75.30612}, {2712, 70.70659}, {2462, 68.358116}, {126, 66.99557}, {2011, 66.26748}, {2101, 66.13791}, {8252, 66.035255}, {2203, 65.41116}, {2611, 65.29296}]  |\n",
      "|133    |[{2300, 72.17663}, {2002, 66.9651}, {3969, 66.61266}, {2105, 66.53539}, {2207, 66.48005}, {3509, 65.54637}, {3506, 64.40401}, {2305, 64.12578}, {2815, 63.602512}, {3256, 63.556137}]  |\n",
      "|137    |[{3256, 81.84708}, {137, 72.99649}, {4, 68.45753}, {2454, 66.49391}, {3722, 65.58306}, {4000, 63.660244}, {2712, 61.657948}, {2002, 61.469067}, {5002, 61.325527}, {8301, 61.320164}]  |\n",
      "|148    |[{2106, 83.37313}, {8000, 73.81479}, {3923, 72.620575}, {2200, 71.65921}, {3253, 71.27833}, {2959, 69.80008}, {2658, 69.25116}, {3660, 66.48999}, {8761, 65.938034}, {2307, 65.49718}] |\n",
      "|155    |[{3507, 80.24562}, {2367, 73.46562}, {3608, 73.43576}, {20, 72.748726}, {2917, 70.23767}, {2112, 67.34261}, {8931, 65.0448}, {5007, 63.145763}, {2309, 62.760452}, {7, 61.713943}]     |\n",
      "|193    |[{3000, 78.03591}, {4000, 77.00791}, {2304, 73.48535}, {2511, 72.489716}, {3256, 69.18411}, {3205, 68.01591}, {2009, 67.88936}, {3509, 67.75474}, {193, 66.99548}, {2305, 65.650635}]  |\n",
      "|210    |[{3007, 83.68808}, {7, 83.09208}, {2309, 76.69367}, {5050, 73.92903}, {0, 73.91303}, {3512, 71.71796}, {8004, 70.21128}, {3956, 69.9136}, {3658, 69.56383}, {3873, 69.27067}]          |\n",
      "|243    |[{2770, 74.99233}, {2009, 71.08636}, {2000, 70.85266}, {3353, 69.45972}, {2109, 68.86928}, {3501, 66.480415}, {3256, 66.35962}, {3972, 65.110405}, {3702, 64.19489}, {3967, 63.251507}]|\n",
      "|251    |[{2203, 79.24399}, {2510, 73.56092}, {2011, 73.23387}, {2053, 72.68686}, {3754, 72.07309}, {3953, 71.38226}, {2312, 69.464325}, {8260, 68.959}, {2260, 68.53172}, {2615, 65.86202}]    |\n",
      "+-------+---------------------------------------------------------------------------------------------------------------------------------------------------------------------------------------+\n",
      "only showing top 20 rows\n",
      "\n"
     ]
    }
   ],
   "source": [
    "user_recommendations = model.recommendForAllUsers(10)\n",
    "user_recommendations.show(truncate=False)\n"
   ]
  },
  {
   "cell_type": "code",
   "execution_count": 13,
   "id": "6389b69d-6c15-4992-8a46-486384903878",
   "metadata": {},
   "outputs": [
    {
     "ename": "AnalysisException",
     "evalue": "[UNSUPPORTED_DATA_TYPE_FOR_DATASOURCE] The CSV datasource doesn't support the column `recommendations` of the type \"ARRAY<STRUCT<item_id: INT, rating: FLOAT>>\".",
     "output_type": "error",
     "traceback": [
      "\u001b[1;31m---------------------------------------------------------------------------\u001b[0m",
      "\u001b[1;31mAnalysisException\u001b[0m                         Traceback (most recent call last)",
      "Cell \u001b[1;32mIn[13], line 2\u001b[0m\n\u001b[0;32m      1\u001b[0m \u001b[38;5;66;03m# Save user recommendations to a CSV file\u001b[39;00m\n\u001b[1;32m----> 2\u001b[0m \u001b[43muser_recommendations\u001b[49m\u001b[38;5;241;43m.\u001b[39;49m\u001b[43mwrite\u001b[49m\u001b[38;5;241;43m.\u001b[39;49m\u001b[43mcsv\u001b[49m\u001b[43m(\u001b[49m\u001b[38;5;124;43mr\u001b[39;49m\u001b[38;5;124;43m\"\u001b[39;49m\u001b[38;5;124;43mC:\u001b[39;49m\u001b[38;5;124;43m\\\u001b[39;49m\u001b[38;5;124;43mBigData\u001b[39;49m\u001b[38;5;124;43m\\\u001b[39;49m\u001b[38;5;124;43muser_recommendations\u001b[39;49m\u001b[38;5;124;43m\"\u001b[39;49m\u001b[43m,\u001b[49m\u001b[43m \u001b[49m\u001b[43mheader\u001b[49m\u001b[38;5;241;43m=\u001b[39;49m\u001b[38;5;28;43;01mTrue\u001b[39;49;00m\u001b[43m,\u001b[49m\u001b[43m \u001b[49m\u001b[43mmode\u001b[49m\u001b[38;5;241;43m=\u001b[39;49m\u001b[38;5;124;43m\"\u001b[39;49m\u001b[38;5;124;43moverwrite\u001b[39;49m\u001b[38;5;124;43m\"\u001b[39;49m\u001b[43m)\u001b[49m\n",
      "File \u001b[1;32m~\\big-data-venv\\Lib\\site-packages\\pyspark\\sql\\readwriter.py:1864\u001b[0m, in \u001b[0;36mDataFrameWriter.csv\u001b[1;34m(self, path, mode, compression, sep, quote, escape, header, nullValue, escapeQuotes, quoteAll, dateFormat, timestampFormat, ignoreLeadingWhiteSpace, ignoreTrailingWhiteSpace, charToEscapeQuoteEscaping, encoding, emptyValue, lineSep)\u001b[0m\n\u001b[0;32m   1845\u001b[0m \u001b[38;5;28mself\u001b[39m\u001b[38;5;241m.\u001b[39mmode(mode)\n\u001b[0;32m   1846\u001b[0m \u001b[38;5;28mself\u001b[39m\u001b[38;5;241m.\u001b[39m_set_opts(\n\u001b[0;32m   1847\u001b[0m     compression\u001b[38;5;241m=\u001b[39mcompression,\n\u001b[0;32m   1848\u001b[0m     sep\u001b[38;5;241m=\u001b[39msep,\n\u001b[1;32m   (...)\u001b[0m\n\u001b[0;32m   1862\u001b[0m     lineSep\u001b[38;5;241m=\u001b[39mlineSep,\n\u001b[0;32m   1863\u001b[0m )\n\u001b[1;32m-> 1864\u001b[0m \u001b[38;5;28;43mself\u001b[39;49m\u001b[38;5;241;43m.\u001b[39;49m\u001b[43m_jwrite\u001b[49m\u001b[38;5;241;43m.\u001b[39;49m\u001b[43mcsv\u001b[49m\u001b[43m(\u001b[49m\u001b[43mpath\u001b[49m\u001b[43m)\u001b[49m\n",
      "File \u001b[1;32m~\\big-data-venv\\Lib\\site-packages\\py4j\\java_gateway.py:1322\u001b[0m, in \u001b[0;36mJavaMember.__call__\u001b[1;34m(self, *args)\u001b[0m\n\u001b[0;32m   1316\u001b[0m command \u001b[38;5;241m=\u001b[39m proto\u001b[38;5;241m.\u001b[39mCALL_COMMAND_NAME \u001b[38;5;241m+\u001b[39m\\\n\u001b[0;32m   1317\u001b[0m     \u001b[38;5;28mself\u001b[39m\u001b[38;5;241m.\u001b[39mcommand_header \u001b[38;5;241m+\u001b[39m\\\n\u001b[0;32m   1318\u001b[0m     args_command \u001b[38;5;241m+\u001b[39m\\\n\u001b[0;32m   1319\u001b[0m     proto\u001b[38;5;241m.\u001b[39mEND_COMMAND_PART\n\u001b[0;32m   1321\u001b[0m answer \u001b[38;5;241m=\u001b[39m \u001b[38;5;28mself\u001b[39m\u001b[38;5;241m.\u001b[39mgateway_client\u001b[38;5;241m.\u001b[39msend_command(command)\n\u001b[1;32m-> 1322\u001b[0m return_value \u001b[38;5;241m=\u001b[39m \u001b[43mget_return_value\u001b[49m\u001b[43m(\u001b[49m\n\u001b[0;32m   1323\u001b[0m \u001b[43m    \u001b[49m\u001b[43manswer\u001b[49m\u001b[43m,\u001b[49m\u001b[43m \u001b[49m\u001b[38;5;28;43mself\u001b[39;49m\u001b[38;5;241;43m.\u001b[39;49m\u001b[43mgateway_client\u001b[49m\u001b[43m,\u001b[49m\u001b[43m \u001b[49m\u001b[38;5;28;43mself\u001b[39;49m\u001b[38;5;241;43m.\u001b[39;49m\u001b[43mtarget_id\u001b[49m\u001b[43m,\u001b[49m\u001b[43m \u001b[49m\u001b[38;5;28;43mself\u001b[39;49m\u001b[38;5;241;43m.\u001b[39;49m\u001b[43mname\u001b[49m\u001b[43m)\u001b[49m\n\u001b[0;32m   1325\u001b[0m \u001b[38;5;28;01mfor\u001b[39;00m temp_arg \u001b[38;5;129;01min\u001b[39;00m temp_args:\n\u001b[0;32m   1326\u001b[0m     \u001b[38;5;28;01mif\u001b[39;00m \u001b[38;5;28mhasattr\u001b[39m(temp_arg, \u001b[38;5;124m\"\u001b[39m\u001b[38;5;124m_detach\u001b[39m\u001b[38;5;124m\"\u001b[39m):\n",
      "File \u001b[1;32m~\\big-data-venv\\Lib\\site-packages\\pyspark\\errors\\exceptions\\captured.py:185\u001b[0m, in \u001b[0;36mcapture_sql_exception.<locals>.deco\u001b[1;34m(*a, **kw)\u001b[0m\n\u001b[0;32m    181\u001b[0m converted \u001b[38;5;241m=\u001b[39m convert_exception(e\u001b[38;5;241m.\u001b[39mjava_exception)\n\u001b[0;32m    182\u001b[0m \u001b[38;5;28;01mif\u001b[39;00m \u001b[38;5;129;01mnot\u001b[39;00m \u001b[38;5;28misinstance\u001b[39m(converted, UnknownException):\n\u001b[0;32m    183\u001b[0m     \u001b[38;5;66;03m# Hide where the exception came from that shows a non-Pythonic\u001b[39;00m\n\u001b[0;32m    184\u001b[0m     \u001b[38;5;66;03m# JVM exception message.\u001b[39;00m\n\u001b[1;32m--> 185\u001b[0m     \u001b[38;5;28;01mraise\u001b[39;00m converted \u001b[38;5;28;01mfrom\u001b[39;00m \u001b[38;5;28;01mNone\u001b[39;00m\n\u001b[0;32m    186\u001b[0m \u001b[38;5;28;01melse\u001b[39;00m:\n\u001b[0;32m    187\u001b[0m     \u001b[38;5;28;01mraise\u001b[39;00m\n",
      "\u001b[1;31mAnalysisException\u001b[0m: [UNSUPPORTED_DATA_TYPE_FOR_DATASOURCE] The CSV datasource doesn't support the column `recommendations` of the type \"ARRAY<STRUCT<item_id: INT, rating: FLOAT>>\"."
     ]
    }
   ],
   "source": [
    "# Save user recommendations to a CSV file\n",
    "user_recommendations.write.csv(r\"C:\\BigData\\user_recommendations\", header=True, mode=\"overwrite\")\n"
   ]
  },
  {
   "cell_type": "code",
   "execution_count": 14,
   "id": "436afa26-2a80-4eda-a556-3d4f30ea591e",
   "metadata": {},
   "outputs": [],
   "source": [
    "from pyspark.sql.functions import explode, col\n",
    "\n",
    "# Flatten the recommendations\n",
    "flattened_recommendations = user_recommendations.withColumn(\"recommendation\", explode(col(\"recommendations\"))) \\\n",
    "                                                .select(\n",
    "                                                    col(\"user_id\"),\n",
    "                                                    col(\"recommendation.item_id\").alias(\"item_id\"),\n",
    "                                                    col(\"recommendation.rating\").alias(\"rating\")\n",
    "                                                )\n"
   ]
  },
  {
   "cell_type": "code",
   "execution_count": 15,
   "id": "3d220f48-42cd-4cfd-b665-648df02f4d95",
   "metadata": {},
   "outputs": [],
   "source": [
    "flattened_recommendations.write.csv(r\"C:\\BigData\\user_recommendations\", header=True, mode=\"overwrite\")\n"
   ]
  },
  {
   "cell_type": "code",
   "execution_count": null,
   "id": "d0e669fe-aeb1-49c0-af47-650e25f26533",
   "metadata": {},
   "outputs": [],
   "source": []
  }
 ],
 "metadata": {
  "kernelspec": {
   "display_name": "Python 3 (ipykernel)",
   "language": "python",
   "name": "python3"
  },
  "language_info": {
   "codemirror_mode": {
    "name": "ipython",
    "version": 3
   },
   "file_extension": ".py",
   "mimetype": "text/x-python",
   "name": "python",
   "nbconvert_exporter": "python",
   "pygments_lexer": "ipython3",
   "version": "3.12.0"
  }
 },
 "nbformat": 4,
 "nbformat_minor": 5
}
