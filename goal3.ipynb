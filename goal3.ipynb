{
 "cells": [
  {
   "cell_type": "code",
   "execution_count": 5,
   "id": "e1dc3ed4-82fc-4461-b6fb-57dd4f9c2c7a",
   "metadata": {},
   "outputs": [
    {
     "name": "stdout",
     "output_type": "stream",
     "text": [
      "root\n",
      " |-- user_id: integer (nullable = true)\n",
      " |-- track_id: string (nullable = true)\n",
      " |-- artists: string (nullable = true)\n",
      " |-- album_name: string (nullable = true)\n",
      " |-- track_name: string (nullable = true)\n",
      " |-- popularity: string (nullable = true)\n",
      " |-- duration_listened: integer (nullable = true)\n",
      " |-- explicit: string (nullable = true)\n",
      " |-- danceability: string (nullable = true)\n",
      " |-- energy: double (nullable = true)\n",
      " |-- key: double (nullable = true)\n",
      " |-- loudness: double (nullable = true)\n",
      " |-- mode: double (nullable = true)\n",
      " |-- speechiness: double (nullable = true)\n",
      " |-- acousticness: double (nullable = true)\n",
      " |-- instrumentalness: double (nullable = true)\n",
      " |-- liveness: double (nullable = true)\n",
      " |-- valence: double (nullable = true)\n",
      " |-- tempo: double (nullable = true)\n",
      " |-- time_signature: double (nullable = true)\n",
      " |-- track_genre: string (nullable = true)\n",
      "\n",
      "+-------+--------------------+--------------------+--------------------+--------------------+----------+-----------------+--------+------------+------+---+--------+----+-----------+------------+----------------+--------+-------+-------+--------------+-----------+\n",
      "|user_id|            track_id|             artists|          album_name|          track_name|popularity|duration_listened|explicit|danceability|energy|key|loudness|mode|speechiness|acousticness|instrumentalness|liveness|valence|  tempo|time_signature|track_genre|\n",
      "+-------+--------------------+--------------------+--------------------+--------------------+----------+-----------------+--------+------------+------+---+--------+----+-----------+------------+----------------+--------+-------+-------+--------------+-----------+\n",
      "|      0|5SuOikwiRyPMVoIQD...|         Gen Hoshino|              Comedy|              Comedy|        73|           230666|   FALSE|       0.676| 0.461|1.0|  -6.746| 0.0|      0.143|      0.0322|         1.01E-6|   0.358|  0.715| 87.917|           4.0|   acoustic|\n",
      "|      1|4qPNDBW1i3p13qLCt...|        Ben Woodward|    Ghost (Acoustic)|    Ghost - Acoustic|        55|           149610|   FALSE|        0.42| 0.166|1.0| -17.235| 1.0|     0.0763|       0.924|         5.56E-6|   0.101|  0.267| 77.489|           4.0|   acoustic|\n",
      "|      2|1iJBSr7s7jYXzM8EG...|Ingrid Michaelson...|      To Begin Again|      To Begin Again|        57|           210826|   FALSE|       0.438| 0.359|0.0|  -9.734| 1.0|     0.0557|        0.21|             0.0|   0.117|   0.12| 76.332|           4.0|   acoustic|\n",
      "|      3|6lfxq3CG4xtTiEg7o...|        Kina Grannis|Crazy Rich Asians...|Can't Help Fallin...|        71|           201933|   FALSE|       0.266|0.0596|0.0| -18.515| 1.0|     0.0363|       0.905|         7.07E-5|   0.132|  0.143| 181.74|           3.0|   acoustic|\n",
      "|      4|5vjLSffimiIP26QG5...|    Chord Overstreet|             Hold On|             Hold On|        82|           198853|   FALSE|       0.618| 0.443|2.0|  -9.681| 1.0|     0.0526|       0.469|             0.0|  0.0829|  0.167|119.949|           4.0|   acoustic|\n",
      "+-------+--------------------+--------------------+--------------------+--------------------+----------+-----------------+--------+------------+------+---+--------+----+-----------+------------+----------------+--------+-------+-------+--------------+-----------+\n",
      "only showing top 5 rows\n",
      "\n"
     ]
    }
   ],
   "source": [
    "from pyspark.sql import SparkSession\n",
    "\n",
    "spark = SparkSession.builder.appName(\"SentimentAnalysis\").getOrCreate()\n",
    "df = spark.read.csv(\"dataset_music.csv\", header=True, inferSchema=True)\n",
    "df.printSchema()\n",
    "df.show(5)\n"
   ]
  },
  {
   "cell_type": "code",
   "execution_count": 2,
   "id": "0f7bcc24-d820-4c01-a4cb-3999c5c0999b",
   "metadata": {},
   "outputs": [
    {
     "name": "stdout",
     "output_type": "stream",
     "text": [
      "+-----------+-------------+\n",
      "|track_genre|cleaned_genre|\n",
      "+-----------+-------------+\n",
      "|   acoustic|     acoustic|\n",
      "|   acoustic|     acoustic|\n",
      "|   acoustic|     acoustic|\n",
      "|   acoustic|     acoustic|\n",
      "|   acoustic|     acoustic|\n",
      "+-----------+-------------+\n",
      "only showing top 5 rows\n",
      "\n"
     ]
    }
   ],
   "source": [
    "from pyspark.sql.functions import regexp_replace, lower\n",
    "\n",
    "df = df.withColumn(\"cleaned_genre\", lower(regexp_replace(\"track_genre\", \"[^a-zA-Z0-9 ]\", \"\")))\n",
    "df.select(\"track_genre\", \"cleaned_genre\").show(5)\n"
   ]
  },
  {
   "cell_type": "code",
   "execution_count": 3,
   "id": "71aee094-3450-4117-a86b-7c76302d40e4",
   "metadata": {},
   "outputs": [
    {
     "name": "stdout",
     "output_type": "stream",
     "text": [
      "+-------------+----------+\n",
      "|cleaned_genre|words     |\n",
      "+-------------+----------+\n",
      "|acoustic     |[acoustic]|\n",
      "|acoustic     |[acoustic]|\n",
      "|acoustic     |[acoustic]|\n",
      "|acoustic     |[acoustic]|\n",
      "|acoustic     |[acoustic]|\n",
      "+-------------+----------+\n",
      "only showing top 5 rows\n",
      "\n"
     ]
    }
   ],
   "source": [
    "from pyspark.ml.feature import Tokenizer\n",
    "\n",
    "tokenizer = Tokenizer(inputCol=\"cleaned_genre\", outputCol=\"words\")\n",
    "tokenized_df = tokenizer.transform(df)\n",
    "tokenized_df.select(\"cleaned_genre\", \"words\").show(5, truncate=False)\n"
   ]
  },
  {
   "cell_type": "code",
   "execution_count": 6,
   "id": "723c77df-2e6d-4273-9afe-daec6144189d",
   "metadata": {},
   "outputs": [
    {
     "name": "stdout",
     "output_type": "stream",
     "text": [
      "+----------+--------------------+\n",
      "|     words|            features|\n",
      "+----------+--------------------+\n",
      "|[acoustic]|(500,[468],[2.302...|\n",
      "|[acoustic]|(500,[468],[2.302...|\n",
      "|[acoustic]|(500,[468],[2.302...|\n",
      "|[acoustic]|(500,[468],[2.302...|\n",
      "|[acoustic]|(500,[468],[2.302...|\n",
      "+----------+--------------------+\n",
      "only showing top 5 rows\n",
      "\n"
     ]
    }
   ],
   "source": [
    "from pyspark.ml.feature import HashingTF, IDF\n",
    "\n",
    "# Convert text to raw features using HashingTF\n",
    "hashing_tf = HashingTF(inputCol=\"words\", outputCol=\"raw_features\", numFeatures=500)\n",
    "tf_df = hashing_tf.transform(tokenized_df)\n",
    "\n",
    "# Use IDF to compute feature importance\n",
    "idf = IDF(inputCol=\"raw_features\", outputCol=\"features\")\n",
    "idf_model = idf.fit(tf_df)\n",
    "vectorized_df = idf_model.transform(tf_df)\n",
    "\n",
    "vectorized_df.select(\"words\", \"features\").show(5)\n"
   ]
  },
  {
   "cell_type": "code",
   "execution_count": 7,
   "id": "b2c60aad-3c5c-48d5-80e2-2b69a5ecc977",
   "metadata": {},
   "outputs": [
    {
     "name": "stdout",
     "output_type": "stream",
     "text": [
      "+-----------+------------+\n",
      "|track_genre|mood_cluster|\n",
      "+-----------+------------+\n",
      "|   acoustic|           0|\n",
      "|   acoustic|           0|\n",
      "|   acoustic|           0|\n",
      "|   acoustic|           0|\n",
      "|   acoustic|           0|\n",
      "|   acoustic|           0|\n",
      "|   acoustic|           0|\n",
      "|   acoustic|           0|\n",
      "|   acoustic|           0|\n",
      "|   acoustic|           0|\n",
      "+-----------+------------+\n",
      "only showing top 10 rows\n",
      "\n"
     ]
    }
   ],
   "source": [
    "from pyspark.ml.clustering import KMeans\n",
    "\n",
    "# Apply K-Means clustering\n",
    "kmeans = KMeans(k=4, seed=42, featuresCol=\"features\", predictionCol=\"mood_cluster\")\n",
    "kmeans_model = kmeans.fit(vectorized_df)\n",
    "clustered_df = kmeans_model.transform(vectorized_df)\n",
    "\n",
    "clustered_df.select(\"track_genre\", \"mood_cluster\").show(10)\n"
   ]
  },
  {
   "cell_type": "code",
   "execution_count": 8,
   "id": "13735614-b317-4670-b99d-2a6d5aa58a72",
   "metadata": {},
   "outputs": [
    {
     "name": "stdout",
     "output_type": "stream",
     "text": [
      "+-----------+-----+\n",
      "|track_genre| mood|\n",
      "+-----------+-----+\n",
      "|   acoustic|Happy|\n",
      "|   acoustic|Happy|\n",
      "|   acoustic|Happy|\n",
      "|   acoustic|Happy|\n",
      "|   acoustic|Happy|\n",
      "|   acoustic|Happy|\n",
      "|   acoustic|Happy|\n",
      "|   acoustic|Happy|\n",
      "|   acoustic|Happy|\n",
      "|   acoustic|Happy|\n",
      "+-----------+-----+\n",
      "only showing top 10 rows\n",
      "\n"
     ]
    }
   ],
   "source": [
    "from pyspark.sql.functions import when\n",
    "\n",
    "clustered_df = clustered_df.withColumn(\n",
    "    \"mood\",\n",
    "    when(clustered_df.mood_cluster == 0, \"Happy\")\n",
    "    .when(clustered_df.mood_cluster == 1, \"Sad\")\n",
    "    .when(clustered_df.mood_cluster == 2, \"Energetic\")\n",
    "    .otherwise(\"Calm\")\n",
    ")\n",
    "clustered_df.select(\"track_genre\", \"mood\").show(10)\n"
   ]
  },
  {
   "cell_type": "code",
   "execution_count": null,
   "id": "5d340c44-ec2e-4c8c-b544-49885823771d",
   "metadata": {},
   "outputs": [],
   "source": [
    "from pyspark.sql.functions import collect_list\n",
    "\n",
    "recommendations = clustered_df.groupBy(\"mood\").agg(collect_list(\"track_genre\").alias(\"songs\"))\n",
    "recommendations.show(truncate=False)\n"
   ]
  },
  {
   "cell_type": "code",
   "execution_count": null,
   "id": "88de18c7-d8a4-4761-92ca-701fd3b1e9ba",
   "metadata": {},
   "outputs": [],
   "source": []
  },
  {
   "cell_type": "code",
   "execution_count": null,
   "id": "ffcf8049-37c7-4aaa-8904-44f6fa878c9b",
   "metadata": {},
   "outputs": [],
   "source": [
    "from pyspark.sql.functions import concat_ws\n",
    "\n",
    "# Convert array of songs into a single string\n",
    "recommendations = recommendations.withColumn(\"songs\", concat_ws(\",\", recommendations[\"songs\"]))\n",
    "\n",
    "# Save to CSV\n",
    "recommendations.write.csv(r\"C:\\Big_Data\\mood_based_recommendations.csv\", header=True)\n"
   ]
  },
  {
   "cell_type": "code",
   "execution_count": null,
   "id": "f822e1c0-1ffe-47d9-ad6c-1ff1be03f150",
   "metadata": {},
   "outputs": [],
   "source": []
  }
 ],
 "metadata": {
  "kernelspec": {
   "display_name": "Python 3 (ipykernel)",
   "language": "python",
   "name": "python3"
  },
  "language_info": {
   "codemirror_mode": {
    "name": "ipython",
    "version": 3
   },
   "file_extension": ".py",
   "mimetype": "text/x-python",
   "name": "python",
   "nbconvert_exporter": "python",
   "pygments_lexer": "ipython3",
   "version": "3.11.9"
  }
 },
 "nbformat": 4,
 "nbformat_minor": 5
}
