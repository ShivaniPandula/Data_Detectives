{
 "cells": [
  {
   "cell_type": "code",
   "execution_count": 1,
   "id": "24fd6b9a-4dd9-496e-b727-bb32d735af3f",
   "metadata": {},
   "outputs": [],
   "source": [
    "from pyspark.sql import SparkSession\n",
    "from pyspark.sql.functions import col, sum, desc"
   ]
  },
  {
   "cell_type": "code",
   "execution_count": 9,
   "id": "1837fe6b-b237-40af-8d81-28c1fce7085e",
   "metadata": {},
   "outputs": [],
   "source": [
    "spark = SparkSession.builder.appName(\"TrendingSongsAnalysis\").getOrCreate()"
   ]
  },
  {
   "cell_type": "code",
   "execution_count": 10,
   "id": "d95ad475-5ce1-4751-b5ee-702e0350e739",
   "metadata": {},
   "outputs": [],
   "source": [
    "df = spark.read.csv(\"dataset_music_1.csv\", header=True, inferSchema=True)"
   ]
  },
  {
   "cell_type": "code",
   "execution_count": 11,
   "id": "f363730f-028b-4c7f-a527-6b639f5b9856",
   "metadata": {},
   "outputs": [
    {
     "name": "stdout",
     "output_type": "stream",
     "text": [
      "+---+--------------------+--------------------+--------------------+--------------------+----------+-----------+--------+------------+------+---+--------+----+-----------+------------+----------------+--------+-------+-------+--------------+-----------+--------+----------+\n",
      "|_c0|            track_id|             artists|          album_name|          track_name|popularity|duration_ms|explicit|danceability|energy|key|loudness|mode|speechiness|acousticness|instrumentalness|liveness|valence|  tempo|time_signature|track_genre| User ID|play_count|\n",
      "+---+--------------------+--------------------+--------------------+--------------------+----------+-----------+--------+------------+------+---+--------+----+-----------+------------+----------------+--------+-------+-------+--------------+-----------+--------+----------+\n",
      "|  0|5SuOikwiRyPMVoIQD...|         Gen Hoshino|              Comedy|              Comedy|        73|     230666|   FALSE|       0.676| 0.461|1.0|  -6.746| 0.0|      0.143|      0.0322|         1.01E-6|   0.358|  0.715| 87.917|           4.0|   acoustic|15624510|         1|\n",
      "|  1|4qPNDBW1i3p13qLCt...|        Ben Woodward|    Ghost (Acoustic)|    Ghost - Acoustic|        55|     149610|   FALSE|        0.42| 0.166|1.0| -17.235| 1.0|     0.0763|       0.924|         5.56E-6|   0.101|  0.267| 77.489|           4.0|   acoustic|15810944|         1|\n",
      "|  2|1iJBSr7s7jYXzM8EG...|Ingrid Michaelson...|      To Begin Again|      To Begin Again|        57|     210826|   FALSE|       0.438| 0.359|0.0|  -9.734| 1.0|     0.0557|        0.21|             0.0|   0.117|   0.12| 76.332|           4.0|   acoustic|15668575|         1|\n",
      "|  3|6lfxq3CG4xtTiEg7o...|        Kina Grannis|Crazy Rich Asians...|Can't Help Fallin...|        71|     201933|   FALSE|       0.266|0.0596|0.0| -18.515| 1.0|     0.0363|       0.905|         7.07E-5|   0.132|  0.143| 181.74|           3.0|   acoustic|15603246|         1|\n",
      "|  4|5vjLSffimiIP26QG5...|    Chord Overstreet|             Hold On|             Hold On|        82|     198853|   FALSE|       0.618| 0.443|2.0|  -9.681| 1.0|     0.0526|       0.469|             0.0|  0.0829|  0.167|119.949|           4.0|   acoustic|15804002|         1|\n",
      "+---+--------------------+--------------------+--------------------+--------------------+----------+-----------+--------+------------+------+---+--------+----+-----------+------------+----------------+--------+-------+-------+--------------+-----------+--------+----------+\n",
      "only showing top 5 rows\n",
      "\n"
     ]
    }
   ],
   "source": [
    "df.show(5)"
   ]
  },
  {
   "cell_type": "code",
   "execution_count": 12,
   "id": "c5c01377-c071-4ba5-8e16-f6addac11cf0",
   "metadata": {},
   "outputs": [],
   "source": [
    "df_clean = df.filter(df[\"play_count\"].isNotNull() & df[\"artists\"].isNotNull())"
   ]
  },
  {
   "cell_type": "code",
   "execution_count": 13,
   "id": "40c19195-e246-46d2-9b65-99ee254e7b2c",
   "metadata": {},
   "outputs": [],
   "source": [
    "df_clean = df_clean.withColumn(\"play_count\", col(\"play_count\").cast(\"int\"))"
   ]
  },
  {
   "cell_type": "code",
   "execution_count": 14,
   "id": "274cd46a-1bce-46c2-9330-f4e48e815e2b",
   "metadata": {},
   "outputs": [],
   "source": [
    "genre_artist_agg = df_clean.groupBy(\"track_genre\", \"artists\") \\\n",
    "                           .agg(sum(\"play_count\").alias(\"total_play_count\")) \\\n",
    "                           .orderBy(desc(\"total_play_count\"))"
   ]
  },
  {
   "cell_type": "code",
   "execution_count": 15,
   "id": "af8613c1-0450-4c80-b7e1-0cfe8d6bae53",
   "metadata": {},
   "outputs": [
    {
     "name": "stdout",
     "output_type": "stream",
     "text": [
      "+-----------+--------------------+----------------+\n",
      "|track_genre|             artists|total_play_count|\n",
      "+-----------+--------------------+----------------+\n",
      "|          4|    Rachael Yamagata|        15792102|\n",
      "|      blues|     Ella Fitzgerald|             132|\n",
      "|      anime|                Kato|              69|\n",
      "|  bluegrass|  Greensky Bluegrass|              67|\n",
      "|   afrobeat|              Criolo|              60|\n",
      "|   afrobeat|Los Amigos Invisi...|              60|\n",
      "|      blues|               Slank|              58|\n",
      "|    ambient|    Ludovico Einaudi|              56|\n",
      "|   afrobeat|     Plastilina Mosh|              52|\n",
      "|   afrobeat|       Jorge Drexler|              52|\n",
      "+-----------+--------------------+----------------+\n",
      "only showing top 10 rows\n",
      "\n"
     ]
    }
   ],
   "source": [
    "genre_artist_agg.show(10)"
   ]
  },
  {
   "cell_type": "code",
   "execution_count": null,
   "id": "8913d70e-5bb0-4baa-a912-7c8f0ab4a527",
   "metadata": {},
   "outputs": [],
   "source": []
  }
 ],
 "metadata": {
  "kernelspec": {
   "display_name": "Python 3 (ipykernel)",
   "language": "python",
   "name": "python3"
  },
  "language_info": {
   "codemirror_mode": {
    "name": "ipython",
    "version": 3
   },
   "file_extension": ".py",
   "mimetype": "text/x-python",
   "name": "python",
   "nbconvert_exporter": "python",
   "pygments_lexer": "ipython3",
   "version": "3.12.7"
  }
 },
 "nbformat": 4,
 "nbformat_minor": 5
}
