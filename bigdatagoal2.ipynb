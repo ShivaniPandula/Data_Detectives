{
 "cells": [
  {
   "cell_type": "code",
   "execution_count": 2,
   "id": "de81d9a2-c9e3-456d-a549-0cc904443378",
   "metadata": {},
   "outputs": [],
   "source": [
    "from pyspark.sql import SparkSession\n",
    "\n",
    "spark = SparkSession.builder \\\n",
    "    .appName(\"User Behavior Insights\") \\\n",
    "    .getOrCreate()\n",
    "\n",
    "df = spark.read.csv(\"C:\\Big_Data/dataset_music.csv\", header=True, inferSchema=True)\n"
   ]
  },
  {
   "cell_type": "code",
   "execution_count": null,
   "id": "364987fc-137c-4053-8f14-13b0f6c1aa46",
   "metadata": {},
   "outputs": [],
   "source": [
    "df.printSchema()\n",
    "df.show()\n"
   ]
  },
  {
   "cell_type": "code",
   "execution_count": 4,
   "id": "cca3361a-86d2-4196-af70-4398247a0b27",
   "metadata": {
    "scrolled": true
   },
   "outputs": [],
   "source": [
    "relevant_columns = df.select(\"user_id\", \"track_genre\", \"artists\", \"track_id\", \"duration_listened\")\n"
   ]
  },
  {
   "cell_type": "code",
   "execution_count": 7,
   "id": "593f0520-05af-444c-a5b1-e75ad0a5d0e8",
   "metadata": {},
   "outputs": [],
   "source": [
    "df_cleaned = relevant_columns.dropna(subset=[\"user_id\", \"track_genre\", \"artists\"])\n"
   ]
  },
  {
   "cell_type": "code",
   "execution_count": 8,
   "id": "182fadab-b4c7-442a-bec3-259ecebc97f3",
   "metadata": {},
   "outputs": [],
   "source": [
    "from pyspark.sql.types import IntegerType\n",
    "\n",
    "df_cleaned = df_cleaned.withColumn(\"duration_listened\", df_cleaned[\"duration_listened\"].cast(IntegerType()))\n"
   ]
  },
  {
   "cell_type": "code",
   "execution_count": 13,
   "id": "4af251b8-74f2-422b-81ff-cf7904aa9843",
   "metadata": {},
   "outputs": [],
   "source": [
    "#Data cleaning using python\n",
    "from pyspark.sql.functions import count\n",
    "\n",
    "genre_popularity = df_cleaned.groupBy(\"user_id\", \"track_genre\") \\\n",
    "                             .agg(count(\"track_id\").alias(\"genre_play_count\")) \\\n",
    "                             .orderBy(\"user_id\", \"genre_play_count\", ascending=False)\n"
   ]
  },
  {
   "cell_type": "code",
   "execution_count": 30,
   "id": "f53f10a4-43b0-42b7-b4a4-2db45612e335",
   "metadata": {},
   "outputs": [],
   "source": [
    "artist_popularity = df_cleaned.groupBy(\"user_id\", \"artists\") \\\n",
    "                              .agg(count(\"track_id\").alias(\"artist_play_count\")) \\\n",
    "                              .orderBy(\"user_id\", \"artist_play_count\", ascending=False)\n"
   ]
  },
  {
   "cell_type": "code",
   "execution_count": 31,
   "id": "e0e59e1c-c466-47dc-bcf0-62fabbedb1b9",
   "metadata": {},
   "outputs": [],
   "source": [
    "overall_genre_popularity = df_cleaned.groupBy(\"track_genre\") \\\n",
    "                                     .agg(count(\"track_id\").alias(\"total_genre_count\")) \\\n",
    "                                     .orderBy(\"total_genre_count\", ascending=False)\n"
   ]
  },
  {
   "cell_type": "code",
   "execution_count": 32,
   "id": "11a66e6b-2428-4833-b65a-0876ba6d47e5",
   "metadata": {},
   "outputs": [],
   "source": [
    "overall_artist_popularity = df_cleaned.groupBy(\"artists\") \\\n",
    "                                      .agg(count(\"track_id\").alias(\"total_artist_count\")) \\\n",
    "                                      .orderBy(\"total_artist_count\", ascending=False)\n"
   ]
  },
  {
   "cell_type": "code",
   "execution_count": 33,
   "id": "efe85c70-8bac-4f65-9602-e45bd4b8312b",
   "metadata": {},
   "outputs": [],
   "source": [
    "genre_popularity.write.mode(\"overwrite\").csv(r\"C:\\Big_Data\\user_genre_popularity.csv\", header=True)\n"
   ]
  },
  {
   "cell_type": "code",
   "execution_count": 34,
   "id": "11f4d9a2-5d4e-424d-87db-94754e438bac",
   "metadata": {},
   "outputs": [],
   "source": [
    "artist_popularity.write.mode(\"overwrite\").csv(r\"C:\\Big_Data\\user_artist_popularity.csv\", header=True)\n",
    "overall_genre_popularity.write.mode(\"overwrite\").csv(r\"C:\\Big_Data\\overall_genre_popularity.csv\", header=True)\n",
    "overall_artist_popularity.write.mode(\"overwrite\").csv(r\"C:\\Big_Data\\overall_artist_popularity.csv\", header=True)\n"
   ]
  },
  {
   "cell_type": "code",
   "execution_count": null,
   "id": "1121f225-5eca-4804-9a01-09d704bf84f6",
   "metadata": {},
   "outputs": [],
   "source": []
  }
 ],
 "metadata": {
  "kernelspec": {
   "display_name": "Python 3 (ipykernel)",
   "language": "python",
   "name": "python3"
  },
  "language_info": {
   "codemirror_mode": {
    "name": "ipython",
    "version": 3
   },
   "file_extension": ".py",
   "mimetype": "text/x-python",
   "name": "python",
   "nbconvert_exporter": "python",
   "pygments_lexer": "ipython3",
   "version": "3.11.9"
  }
 },
 "nbformat": 4,
 "nbformat_minor": 5
}
