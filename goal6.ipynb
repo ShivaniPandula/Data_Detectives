{
 "cells": [
  {
   "cell_type": "code",
   "execution_count": 1,
   "id": "ed2fc3b1-eab2-4371-9223-f75f9ee3221e",
   "metadata": {},
   "outputs": [],
   "source": [
    "from pyspark.sql import SparkSession\n",
    "from pyspark.sql.functions import col, mean"
   ]
  },
  {
   "cell_type": "code",
   "execution_count": 2,
   "id": "51ff8918-b9ff-4bb5-a160-7fae858d1d79",
   "metadata": {},
   "outputs": [],
   "source": [
    "spark = SparkSession.builder \\\n",
    "    .appName(\"MusicPersonalization\") \\\n",
    "    .getOrCreate()"
   ]
  },
  {
   "cell_type": "code",
   "execution_count": 3,
   "id": "199a9f6c-d163-4321-8eac-e81ae1071cf5",
   "metadata": {},
   "outputs": [],
   "source": [
    "music_spark_df = spark.read.csv(\"dataset_music.csv\", header=True, inferSchema=True)"
   ]
  },
  {
   "cell_type": "code",
   "execution_count": 4,
   "id": "9b48e28c-7c93-41f6-8717-1e8ea274aa0d",
   "metadata": {},
   "outputs": [],
   "source": [
    "numeric_columns = ['popularity', 'duration_ms', 'danceability', 'energy', 'valence', 'tempo']\n",
    "for col_name in numeric_columns:\n",
    "    mean_value = music_spark_df.select(mean(col(col_name))).collect()[0][0]\n",
    "    music_spark_df = music_spark_df.fillna({col_name: mean_value})"
   ]
  },
  {
   "cell_type": "code",
   "execution_count": 5,
   "id": "5c332532-32e0-491d-884b-3b75b3f6d61e",
   "metadata": {},
   "outputs": [
    {
     "name": "stdout",
     "output_type": "stream",
     "text": [
      "+---+--------------------+--------------------+--------------------+--------------------+----------+-----------+--------+------------+------+---+--------+----+-----------+------------+----------------+--------+-------+-------+--------------+-----------+\n",
      "|_c0|            track_id|             artists|          album_name|          track_name|popularity|duration_ms|explicit|danceability|energy|key|loudness|mode|speechiness|acousticness|instrumentalness|liveness|valence|  tempo|time_signature|track_genre|\n",
      "+---+--------------------+--------------------+--------------------+--------------------+----------+-----------+--------+------------+------+---+--------+----+-----------+------------+----------------+--------+-------+-------+--------------+-----------+\n",
      "|  0|5SuOikwiRyPMVoIQD...|         Gen Hoshino|              Comedy|              Comedy|        73|     230666|   FALSE|       0.676| 0.461|1.0|  -6.746| 0.0|      0.143|      0.0322|         1.01E-6|   0.358|  0.715| 87.917|           4.0|   acoustic|\n",
      "|  1|4qPNDBW1i3p13qLCt...|        Ben Woodward|    Ghost (Acoustic)|    Ghost - Acoustic|        55|     149610|   FALSE|        0.42| 0.166|1.0| -17.235| 1.0|     0.0763|       0.924|         5.56E-6|   0.101|  0.267| 77.489|           4.0|   acoustic|\n",
      "|  2|1iJBSr7s7jYXzM8EG...|Ingrid Michaelson...|      To Begin Again|      To Begin Again|        57|     210826|   FALSE|       0.438| 0.359|0.0|  -9.734| 1.0|     0.0557|        0.21|             0.0|   0.117|   0.12| 76.332|           4.0|   acoustic|\n",
      "|  3|6lfxq3CG4xtTiEg7o...|        Kina Grannis|Crazy Rich Asians...|Can't Help Fallin...|        71|     201933|   FALSE|       0.266|0.0596|0.0| -18.515| 1.0|     0.0363|       0.905|         7.07E-5|   0.132|  0.143| 181.74|           3.0|   acoustic|\n",
      "|  4|5vjLSffimiIP26QG5...|    Chord Overstreet|             Hold On|             Hold On|        82|     198853|   FALSE|       0.618| 0.443|2.0|  -9.681| 1.0|     0.0526|       0.469|             0.0|  0.0829|  0.167|119.949|           4.0|   acoustic|\n",
      "+---+--------------------+--------------------+--------------------+--------------------+----------+-----------+--------+------------+------+---+--------+----+-----------+------------+----------------+--------+-------+-------+--------------+-----------+\n",
      "only showing top 5 rows\n",
      "\n"
     ]
    }
   ],
   "source": [
    "music_spark_df = music_spark_df.na.drop(subset=[\"track_id\", \"track_name\"])\n",
    "music_spark_df.show(5)"
   ]
  },
  {
   "cell_type": "code",
   "execution_count": 7,
   "id": "0a42d0ff-bcee-4dbd-928f-8cb30fcd274f",
   "metadata": {},
   "outputs": [],
   "source": []
  },
  {
   "cell_type": "code",
   "execution_count": 9,
   "id": "7f124588-2054-4408-a994-09c8a3a49340",
   "metadata": {},
   "outputs": [],
   "source": [
    "from pyspark.sql.functions import hour, count, avg, col"
   ]
  },
  {
   "cell_type": "code",
   "execution_count": 11,
   "id": "fd73cfff-d0b8-42e2-902f-078bde5b197a",
   "metadata": {},
   "outputs": [],
   "source": [
    "\n",
    "\n",
    "# Simulate or use existing user playback data\n",
    "# Example: Adding timestamps for when songs are played\n",
    "listening_data = music_spark_df.withColumn(\"timestamp\", col(\"duration_ms\") * 0.001)  # Simulated timestamp\n",
    "\n"
   ]
  },
  {
   "cell_type": "code",
   "execution_count": 12,
   "id": "7a480758-2736-49fc-a057-d63cfef94175",
   "metadata": {},
   "outputs": [],
   "source": [
    "listening_data = listening_data.withColumn(\"hour_of_day\", (col(\"timestamp\") % 24).cast(\"integer\"))\n"
   ]
  },
  {
   "cell_type": "code",
   "execution_count": 17,
   "id": "fb400b6d-c0ce-4b70-a6f2-b8bbc9f64011",
   "metadata": {},
   "outputs": [
    {
     "name": "stdout",
     "output_type": "stream",
     "text": [
      "+--------------------+-----------+------------------+-------------------+-------------------+-----------+\n",
      "|             artists|total_plays|  avg_danceability|         avg_energy|        avg_valence|genre_count|\n",
      "+--------------------+-----------+------------------+-------------------+-------------------+-----------+\n",
      "|Boyce Avenue;Mega...|          1|             0.619|               0.28|              0.292|          1|\n",
      "|    Ramshackle Glory|          3|0.5416666666666666|              0.437| 0.7400000000000001|          3|\n",
      "|       Brendan James|          1|             0.636|              0.735|              0.537|          1|\n",
      "|      The Black Keys|         16|         0.5650625|          0.6983125| 0.5730000000000001|         16|\n",
      "|    Jane's Addiction|          2|             0.218|              0.932|              0.315|          2|\n",
      "|  Mon Laferte;Juanes|          1|             0.565|              0.667|               0.78|          1|\n",
      "|        Yann Tiersen|          9| 0.446888888888889|0.25882222222222223|0.37931111111111115|          9|\n",
      "|  Fabrizio Paterlini|         14|            0.3175|0.12715428571428572| 0.1503357142857143|         14|\n",
      "|               Hugar|          3|0.4116666666666667|0.07333333333333332|0.16386666666666666|          3|\n",
      "|Anime Piano Dreamers|          1|             0.379|             0.0138|              0.378|          1|\n",
      "+--------------------+-----------+------------------+-------------------+-------------------+-----------+\n",
      "only showing top 10 rows\n",
      "\n"
     ]
    }
   ],
   "source": [
    "user_preferences = listening_data.groupBy(\"artists\").agg(\n",
    "    count(\"track_id\").alias(\"total_plays\"),\n",
    "    avg(\"danceability\").alias(\"avg_danceability\"),\n",
    "    avg(\"energy\").alias(\"avg_energy\"),\n",
    "    avg(\"valence\").alias(\"avg_valence\"),\n",
    "    count(\"track_genre\").alias(\"genre_count\")\n",
    ")\n",
    "user_preferences.show(10)\n"
   ]
  },
  {
   "cell_type": "code",
   "execution_count": null,
   "id": "5017b8f2-09d6-4f85-b5a5-02a182c336c9",
   "metadata": {},
   "outputs": [],
   "source": []
  }
 ],
 "metadata": {
  "kernelspec": {
   "display_name": "Python 3 (ipykernel)",
   "language": "python",
   "name": "python3"
  },
  "language_info": {
   "codemirror_mode": {
    "name": "ipython",
    "version": 3
   },
   "file_extension": ".py",
   "mimetype": "text/x-python",
   "name": "python",
   "nbconvert_exporter": "python",
   "pygments_lexer": "ipython3",
   "version": "3.11.9"
  }
 },
 "nbformat": 4,
 "nbformat_minor": 5
}
